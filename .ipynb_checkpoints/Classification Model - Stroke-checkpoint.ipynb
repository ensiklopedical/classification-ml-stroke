{
 "cells": [
  {
   "cell_type": "code",
   "execution_count": null,
   "id": "4087e944",
   "metadata": {},
   "outputs": [],
   "source": [
    "import numpy as np            # Numerical operations\n",
    "import pandas as pd           # Data manipulation and analysis\n",
    "import matplotlib.pyplot as plt   # Data visualization\n",
    "import seaborn as sns         # Enhanced data visualization"
   ]
  },
  {
   "cell_type": "code",
   "execution_count": null,
   "id": "9087b981",
   "metadata": {},
   "outputs": [],
   "source": []
  }
 ],
 "metadata": {
  "kernelspec": {
   "display_name": "Python 3 (ipykernel)",
   "language": "python",
   "name": "python3"
  },
  "language_info": {
   "codemirror_mode": {
    "name": "ipython",
    "version": 3
   },
   "file_extension": ".py",
   "mimetype": "text/x-python",
   "name": "python",
   "nbconvert_exporter": "python",
   "pygments_lexer": "ipython3",
   "version": "3.10.9"
  }
 },
 "nbformat": 4,
 "nbformat_minor": 5
}
